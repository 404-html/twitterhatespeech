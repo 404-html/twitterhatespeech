{
 "cells": [
  {
   "cell_type": "code",
   "execution_count": 1,
   "metadata": {},
   "outputs": [
    {
     "name": "stderr",
     "output_type": "stream",
     "text": [
      "[nltk_data] Downloading package stopwords to /home/dan/nltk_data...\n",
      "[nltk_data]   Package stopwords is already up-to-date!\n"
     ]
    }
   ],
   "source": [
    "# Data Wrangling\n",
    "import pandas as pd\n",
    "import numpy as np\n",
    "import json\n",
    "\n",
    "# Kafka\n",
    "from confluent_kafka import Consumer, TopicPartition, KafkaError, KafkaException\n",
    "\n",
    "# Utils\n",
    "import logging\n",
    "import sys\n",
    "from time import sleep\n",
    "import re\n",
    "\n",
    "# Data & Models\n",
    "import nltk\n",
    "nltk.download('stopwords')\n",
    "import pickle"
   ]
  },
  {
   "cell_type": "code",
   "execution_count": 2,
   "metadata": {},
   "outputs": [],
   "source": [
    "with open('HateSpeechClassifier.20181211-003504.pkl', 'rb') as file:\n",
    "    model = pickle.load(file)"
   ]
  },
  {
   "cell_type": "code",
   "execution_count": 4,
   "metadata": {},
   "outputs": [
    {
     "data": {
      "text/plain": [
       "'!!!!!!!!!!!!! RT @ShenikaRoberts: The shit you hear about me might be true or it might be faker than the bitch who told it to ya &#57361;'"
      ]
     },
     "execution_count": 4,
     "metadata": {},
     "output_type": "execute_result"
    }
   ],
   "source": [
    "df = pd.read_csv('data/labeled_data.csv')\n",
    "test_tweet = df.iloc[4].tweet\n",
    "test_tweet"
   ]
  },
  {
   "cell_type": "code",
   "execution_count": 5,
   "metadata": {},
   "outputs": [
    {
     "name": "stderr",
     "output_type": "stream",
     "text": [
      "/home/dan/.pyenv/versions/3.7.0/lib/python3.7/site-packages/sklearn/feature_extraction/text.py:300: UserWarning: Your stop_words may be inconsistent with your preprocessing. Tokenizing the stop words generated tokens ['b', 'c', 'e', 'f', 'g', 'h', 'j', 'l', 'n', 'p', 'r', 'u', 'v', 'w'] not in stop_words.\n",
      "  'stop_words.' % sorted(inconsistent))\n"
     ]
    },
    {
     "data": {
      "text/plain": [
       "array([1])"
      ]
     },
     "execution_count": 5,
     "metadata": {},
     "output_type": "execute_result"
    }
   ],
   "source": [
    "y_pred = model.predict([test_tweet])\n",
    "y_pred"
   ]
  },
  {
   "cell_type": "code",
   "execution_count": 6,
   "metadata": {},
   "outputs": [
    {
     "data": {
      "text/plain": [
       "array([2])"
      ]
     },
     "execution_count": 6,
     "metadata": {},
     "output_type": "execute_result"
    }
   ],
   "source": [
    "benign_tweet = 'Happy Birthday, Joe!'\n",
    "model.predict([benign_tweet])"
   ]
  },
  {
   "cell_type": "code",
   "execution_count": 7,
   "metadata": {},
   "outputs": [
    {
     "data": {
      "text/plain": [
       "array([[-2.52721361, -0.10893327, -3.75808175]])"
      ]
     },
     "execution_count": 7,
     "metadata": {},
     "output_type": "execute_result"
    }
   ],
   "source": [
    "model.predict_log_proba([test_tweet])"
   ]
  },
  {
   "cell_type": "code",
   "execution_count": 8,
   "metadata": {},
   "outputs": [
    {
     "data": {
      "text/plain": [
       "['8.0%', '89.7%', '2.3%']"
      ]
     },
     "metadata": {},
     "output_type": "display_data"
    },
    {
     "data": {
      "text/plain": [
       "['14.3%', '19.5%', '66.2%']"
      ]
     },
     "metadata": {},
     "output_type": "display_data"
    }
   ],
   "source": [
    "display(['{:.1f}%'.format(x * 100) for x in model.predict_proba([test_tweet])[0]])\n",
    "display(['{:.1f}%'.format(x * 100) for x in model.predict_proba([benign_tweet])[0]])"
   ]
  },
  {
   "cell_type": "code",
   "execution_count": 9,
   "metadata": {},
   "outputs": [],
   "source": [
    "topics = ['retweets-vocab', 'tweets-vocab-v2']"
   ]
  },
  {
   "cell_type": "code",
   "execution_count": 10,
   "metadata": {},
   "outputs": [],
   "source": [
    "logger = logging.getLogger('consumer')\n",
    "logger.setLevel(logging.DEBUG)\n",
    "handler = logging.StreamHandler()\n",
    "handler.setFormatter(logging.Formatter('%(asctime)-15s %(levelname)-8s %(message)s'))\n",
    "logger.addHandler(handler)"
   ]
  },
  {
   "cell_type": "code",
   "execution_count": 11,
   "metadata": {},
   "outputs": [],
   "source": [
    "TUPLE_REGEX = re.compile(\n",
    "    r'''\n",
    "    ^\\(\n",
    "        (?P<id>[^,]+),\n",
    "        (?P<screen_name>[^,]+),\n",
    "        (?P<timestamp>[^,]+),\n",
    "        (?P<text>.*),\n",
    "        (?P<is_truncated>[^,]+),\n",
    "        (?P<is_retweet>[^,]+),\n",
    "        (?P<retweet_count>[^,]+),\n",
    "        (?P<favorite_count>[^,]+),\n",
    "        (?P<is_possibly_sensitive>[^,]+),\n",
    "        (?P<location>\\(.+\\)),\n",
    "        (?P<vocab_match_count>[^,]+)\n",
    "    \\)$\n",
    "    ''', re.X)\n",
    "\n",
    "def parse_tweet_tuple(tuple_str):\n",
    "    match = TUPLE_REGEX.match(tuple_str)\n",
    "    if match is not None:\n",
    "        return match.groupdict()\n",
    "    else:\n",
    "        print('Can\\'t match: {}'.format(tuple_str))\n",
    "        return {'unparsed': tuple_str}"
   ]
  },
  {
   "cell_type": "code",
   "execution_count": 12,
   "metadata": {},
   "outputs": [],
   "source": [
    "def print_assignment(consumer, partitions):\n",
    "    print('Assignment:', partitions)"
   ]
  },
  {
   "cell_type": "code",
   "execution_count": 13,
   "metadata": {},
   "outputs": [],
   "source": [
    "!rm -f data/*.json"
   ]
  },
  {
   "cell_type": "code",
   "execution_count": 14,
   "metadata": {},
   "outputs": [],
   "source": [
    "def write_to_json(data, index):\n",
    "    json_output = json.dumps(data)\n",
    "    filename = 'tweets-{:04d}.json'.format(index)\n",
    "    print('Writing {}'.format(filename))\n",
    "    with open('data/{}'.format(filename), 'w') as file:\n",
    "        file.write(json_output)\n",
    "    return"
   ]
  },
  {
   "cell_type": "code",
   "execution_count": 15,
   "metadata": {},
   "outputs": [
    {
     "name": "stdout",
     "output_type": "stream",
     "text": [
      "Writing tweets-0000.json\n",
      "CPU times: user 2.1 s, sys: 535 ms, total: 2.63 s\n",
      "Wall time: 8.59 s\n"
     ]
    },
    {
     "name": "stderr",
     "output_type": "stream",
     "text": [
      "% tweets-vocab-v2 [0] reached end at offset 78234\n"
     ]
    }
   ],
   "source": [
    "%%time\n",
    "\n",
    "consumer = Consumer({\n",
    "    'bootstrap.servers': 'kafka.rasbonics.com:29092',\n",
    "    'group.id': 'test-python-consumer',\n",
    "    'auto.offset.reset': 'earliest',\n",
    "    'session.timeout.ms': 6000,\n",
    "}, logger=logger)\n",
    "\n",
    "# Subscribe to topics\n",
    "consumer.subscribe(topics)\n",
    "\n",
    "max_tweets = 10000000\n",
    "tweets_per_file = 10000000\n",
    "tweet_sample = []\n",
    "index = 0\n",
    "\n",
    "try:\n",
    "    while True:\n",
    "        if len(tweet_sample) >= tweets_per_file:\n",
    "            write_to_json(tweet_sample, index)\n",
    "            index += 1\n",
    "            tweet_sample = []\n",
    "            \n",
    "        msg = consumer.poll(timeout=1.0)\n",
    "        if msg is None:\n",
    "            continue\n",
    "        if msg.error():\n",
    "            # Error or event\n",
    "            if msg.error().code() == KafkaError._PARTITION_EOF:\n",
    "                # End of partition event\n",
    "                sys.stderr.write('%% %s [%d] reached end at offset %d\\n' %\n",
    "                                 (msg.topic(), msg.partition(), msg.offset()))\n",
    "                break\n",
    "            else:\n",
    "                # Error\n",
    "                raise KafkaException(msg.error())\n",
    "        else:\n",
    "            tweet_sample.append(parse_tweet_tuple(msg.value().decode('utf-8')))\n",
    "            if len(tweet_sample) >= max_tweets: \n",
    "                break\n",
    "    \n",
    "    write_to_json(tweet_sample, index)\n",
    "\n",
    "except KeyboardInterrupt:\n",
    "    sys.stderr.write('%% Aborted by user\\n')\n",
    "\n",
    "finally:\n",
    "    # Close down consumer to commit final offsets.\n",
    "    consumer.close()"
   ]
  },
  {
   "cell_type": "code",
   "execution_count": 16,
   "metadata": {},
   "outputs": [
    {
     "data": {
      "text/plain": [
       "153724"
      ]
     },
     "execution_count": 16,
     "metadata": {},
     "output_type": "execute_result"
    }
   ],
   "source": [
    "len(tweet_sample)"
   ]
  },
  {
   "cell_type": "code",
   "execution_count": 17,
   "metadata": {},
   "outputs": [
    {
     "data": {
      "text/plain": [
       "{'id': '1071329402909270017',\n",
       " 'screen_name': 'Pizzazz_Books',\n",
       " 'timestamp': 'Sat Dec 08 03:03:28 CST 2018',\n",
       " 'text': 'History mystery action & romance!★SEWING CAN BE DANGEROUS★🦉https://t.co/nZkhO5QKXx@SarahMallery1… https://t.co/wQfO82hx82',\n",
       " 'is_truncated': 'true',\n",
       " 'is_retweet': 'false',\n",
       " 'retweet_count': '15',\n",
       " 'favorite_count': '7',\n",
       " 'is_possibly_sensitive': 'false',\n",
       " 'location': '(,)',\n",
       " 'vocab_match_count': '1'}"
      ]
     },
     "execution_count": 17,
     "metadata": {},
     "output_type": "execute_result"
    }
   ],
   "source": [
    "tweet_sample[0]"
   ]
  },
  {
   "cell_type": "code",
   "execution_count": 18,
   "metadata": {},
   "outputs": [
    {
     "data": {
      "text/plain": [
       "'History mystery action & romance!★SEWING CAN BE DANGEROUS★🦉https://t.co/nZkhO5QKXx@SarahMallery1… https://t.co/wQfO82hx82'"
      ]
     },
     "execution_count": 18,
     "metadata": {},
     "output_type": "execute_result"
    }
   ],
   "source": [
    "tweets_text = [tweet['text'] for tweet in tweet_sample]\n",
    "tweets_text[0]"
   ]
  },
  {
   "cell_type": "code",
   "execution_count": 27,
   "metadata": {},
   "outputs": [],
   "source": [
    "def class_name(probabilities):\n",
    "    max_index = np.argmax(probabilities)\n",
    "    return {\n",
    "        0: 'HATE SPEECH',\n",
    "        1: 'OFFENSIVE LANGUAGE',\n",
    "        2: 'NEITHER',\n",
    "    }[max_index]"
   ]
  },
  {
   "cell_type": "code",
   "execution_count": 20,
   "metadata": {},
   "outputs": [
    {
     "name": "stdout",
     "output_type": "stream",
     "text": [
      "CPU times: user 11min 49s, sys: 18.3 s, total: 12min 8s\n",
      "Wall time: 12min 5s\n"
     ]
    }
   ],
   "source": [
    "%%time\n",
    "\n",
    "predicted_probabilities = model.predict_proba(tweets_text)"
   ]
  },
  {
   "cell_type": "code",
   "execution_count": 21,
   "metadata": {},
   "outputs": [
    {
     "data": {
      "text/html": [
       "<div>\n",
       "<style scoped>\n",
       "    .dataframe tbody tr th:only-of-type {\n",
       "        vertical-align: middle;\n",
       "    }\n",
       "\n",
       "    .dataframe tbody tr th {\n",
       "        vertical-align: top;\n",
       "    }\n",
       "\n",
       "    .dataframe thead th {\n",
       "        text-align: right;\n",
       "    }\n",
       "</style>\n",
       "<table border=\"1\" class=\"dataframe\">\n",
       "  <thead>\n",
       "    <tr style=\"text-align: right;\">\n",
       "      <th></th>\n",
       "      <th>text</th>\n",
       "    </tr>\n",
       "  </thead>\n",
       "  <tbody>\n",
       "    <tr>\n",
       "      <th>0</th>\n",
       "      <td>History mystery action &amp; romance!★SEWING CAN B...</td>\n",
       "    </tr>\n",
       "    <tr>\n",
       "      <th>1</th>\n",
       "      <td>This jobs propaganda clip tells me that the BJ...</td>\n",
       "    </tr>\n",
       "    <tr>\n",
       "      <th>2</th>\n",
       "      <td>This Nigga Nick Cannon said everyone going dow...</td>\n",
       "    </tr>\n",
       "    <tr>\n",
       "      <th>3</th>\n",
       "      <td>I hate that I lie to my mom about going to eat...</td>\n",
       "    </tr>\n",
       "    <tr>\n",
       "      <th>4</th>\n",
       "      <td>pretending to be on the left or \"just a libera...</td>\n",
       "    </tr>\n",
       "  </tbody>\n",
       "</table>\n",
       "</div>"
      ],
      "text/plain": [
       "                                                text\n",
       "0  History mystery action & romance!★SEWING CAN B...\n",
       "1  This jobs propaganda clip tells me that the BJ...\n",
       "2  This Nigga Nick Cannon said everyone going dow...\n",
       "3  I hate that I lie to my mom about going to eat...\n",
       "4  pretending to be on the left or \"just a libera..."
      ]
     },
     "execution_count": 21,
     "metadata": {},
     "output_type": "execute_result"
    }
   ],
   "source": [
    "predicted = pd.DataFrame(tweets_text, columns=['text'])\n",
    "predicted.head()"
   ]
  },
  {
   "cell_type": "code",
   "execution_count": 28,
   "metadata": {},
   "outputs": [],
   "source": [
    "predicted['class'] = [class_name(x) for x in predicted_probabilities]\n",
    "predicted['probability_hate'] = [round(x[0], 3) for x in predicted_probabilities]\n",
    "predicted['probability_offensive'] = [round(x[1], 3) for x in predicted_probabilities]\n",
    "predicted['probability_neither'] = [round(x[2], 3) for x in predicted_probabilities]"
   ]
  },
  {
   "cell_type": "code",
   "execution_count": 29,
   "metadata": {},
   "outputs": [],
   "source": [
    "def display_random_rows(df, n=20):\n",
    "    pd.set_option('display.max_colwidth', -1)\n",
    "    rand_indices = np.random.randint(0, len(df), n)\n",
    "    display(df.iloc[rand_indices])\n",
    "    return"
   ]
  },
  {
   "cell_type": "code",
   "execution_count": 30,
   "metadata": {},
   "outputs": [
    {
     "data": {
      "text/html": [
       "<div>\n",
       "<style scoped>\n",
       "    .dataframe tbody tr th:only-of-type {\n",
       "        vertical-align: middle;\n",
       "    }\n",
       "\n",
       "    .dataframe tbody tr th {\n",
       "        vertical-align: top;\n",
       "    }\n",
       "\n",
       "    .dataframe thead th {\n",
       "        text-align: right;\n",
       "    }\n",
       "</style>\n",
       "<table border=\"1\" class=\"dataframe\">\n",
       "  <thead>\n",
       "    <tr style=\"text-align: right;\">\n",
       "      <th></th>\n",
       "      <th>text</th>\n",
       "      <th>class</th>\n",
       "      <th>probability_hate</th>\n",
       "      <th>probability_offensive</th>\n",
       "      <th>probability_neither</th>\n",
       "    </tr>\n",
       "  </thead>\n",
       "  <tbody>\n",
       "    <tr>\n",
       "      <th>124588</th>\n",
       "      <td>@nonamejustheree @Isaidwhatisaid_ @MadMattChicago @Adore_dess @CustomReality ugly ass white people</td>\n",
       "      <td>HATE SPEECH</td>\n",
       "      <td>0.537</td>\n",
       "      <td>0.115</td>\n",
       "      <td>0.348</td>\n",
       "    </tr>\n",
       "    <tr>\n",
       "      <th>53373</th>\n",
       "      <td>i bet everyone miss their old skin</td>\n",
       "      <td>OFFENSIVE LANGUAGE</td>\n",
       "      <td>0.129</td>\n",
       "      <td>0.561</td>\n",
       "      <td>0.310</td>\n",
       "    </tr>\n",
       "    <tr>\n",
       "      <th>109940</th>\n",
       "      <td>. @Olacabs @ola_supports where are you when i need you the mostlonely nervous lost in the crowd those eyes on… https://t.co/SHZn31IAu7</td>\n",
       "      <td>HATE SPEECH</td>\n",
       "      <td>0.473</td>\n",
       "      <td>0.328</td>\n",
       "      <td>0.199</td>\n",
       "    </tr>\n",
       "    <tr>\n",
       "      <th>135871</th>\n",
       "      <td>@RailMinIndia pnr no.6422208686 train no 12203coche-g7 seatn no.1112 sir watering not supply in this traincharg… https://t.co/OsIPh3LrXf</td>\n",
       "      <td>NEITHER</td>\n",
       "      <td>0.120</td>\n",
       "      <td>0.346</td>\n",
       "      <td>0.535</td>\n",
       "    </tr>\n",
       "    <tr>\n",
       "      <th>54281</th>\n",
       "      <td>Latin American government in the 1890s sponsoring European migration in an attempt to whiten their populations. https://t.co/reGlaKyBkN</td>\n",
       "      <td>NEITHER</td>\n",
       "      <td>0.273</td>\n",
       "      <td>0.288</td>\n",
       "      <td>0.438</td>\n",
       "    </tr>\n",
       "    <tr>\n",
       "      <th>15054</th>\n",
       "      <td>The latest Book Of Quotes And Poetry! https://t.co/vs9gqwQW4o #dianamarysharpton #musicvideo</td>\n",
       "      <td>NEITHER</td>\n",
       "      <td>0.232</td>\n",
       "      <td>0.128</td>\n",
       "      <td>0.640</td>\n",
       "    </tr>\n",
       "    <tr>\n",
       "      <th>138296</th>\n",
       "      <td>@casaliteratura Misery de Stephen king</td>\n",
       "      <td>OFFENSIVE LANGUAGE</td>\n",
       "      <td>0.234</td>\n",
       "      <td>0.409</td>\n",
       "      <td>0.357</td>\n",
       "    </tr>\n",
       "    <tr>\n",
       "      <th>143529</th>\n",
       "      <td>LETS FUCKING HEAR IT!!!!!!!!</td>\n",
       "      <td>OFFENSIVE LANGUAGE</td>\n",
       "      <td>0.311</td>\n",
       "      <td>0.644</td>\n",
       "      <td>0.045</td>\n",
       "    </tr>\n",
       "    <tr>\n",
       "      <th>113642</th>\n",
       "      <td>nigga what we do https://t.co/0s6uGS2mrS</td>\n",
       "      <td>OFFENSIVE LANGUAGE</td>\n",
       "      <td>0.422</td>\n",
       "      <td>0.439</td>\n",
       "      <td>0.139</td>\n",
       "    </tr>\n",
       "    <tr>\n",
       "      <th>55086</th>\n",
       "      <td>@DianaPenty @deespeak No wonder that urban naxal dia mirza shares her birthday with mother of all urban naxals Sonia Gandhi.</td>\n",
       "      <td>NEITHER</td>\n",
       "      <td>0.166</td>\n",
       "      <td>0.077</td>\n",
       "      <td>0.757</td>\n",
       "    </tr>\n",
       "    <tr>\n",
       "      <th>9228</th>\n",
       "      <td>@add_adora NO PLS TRUST ME FOREVER THE ANGST IS DONE WITH I PROMISE</td>\n",
       "      <td>NEITHER</td>\n",
       "      <td>0.072</td>\n",
       "      <td>0.399</td>\n",
       "      <td>0.529</td>\n",
       "    </tr>\n",
       "    <tr>\n",
       "      <th>6</th>\n",
       "      <td>the baby is cold :( https://t.co/6iG5kAPgRd</td>\n",
       "      <td>OFFENSIVE LANGUAGE</td>\n",
       "      <td>0.140</td>\n",
       "      <td>0.532</td>\n",
       "      <td>0.328</td>\n",
       "    </tr>\n",
       "    <tr>\n",
       "      <th>130319</th>\n",
       "      <td>We can’t promise snow but we can promise sparkle! Come out next weekend to the most magical show of the season❄️🌟… https://t.co/Wjs8WgVtVm</td>\n",
       "      <td>NEITHER</td>\n",
       "      <td>0.106</td>\n",
       "      <td>0.156</td>\n",
       "      <td>0.738</td>\n",
       "    </tr>\n",
       "    <tr>\n",
       "      <th>146593</th>\n",
       "      <td>no matter what happens i will ALWAYS come back to this video  https://t.co/E26NSitGkD</td>\n",
       "      <td>NEITHER</td>\n",
       "      <td>0.180</td>\n",
       "      <td>0.271</td>\n",
       "      <td>0.548</td>\n",
       "    </tr>\n",
       "    <tr>\n",
       "      <th>71342</th>\n",
       "      <td>free naughty adult browse chat rooms https://t.co/FVWyU3IUYn no sign up arabic married men dating in union granby m… https://t.co/9megblmLkX</td>\n",
       "      <td>NEITHER</td>\n",
       "      <td>0.046</td>\n",
       "      <td>0.100</td>\n",
       "      <td>0.854</td>\n",
       "    </tr>\n",
       "    <tr>\n",
       "      <th>110071</th>\n",
       "      <td>You can use your gift for gab to be more than just the life of... More for Gemini https://t.co/ohDF5nH38a</td>\n",
       "      <td>OFFENSIVE LANGUAGE</td>\n",
       "      <td>0.069</td>\n",
       "      <td>0.485</td>\n",
       "      <td>0.446</td>\n",
       "    </tr>\n",
       "    <tr>\n",
       "      <th>5705</th>\n",
       "      <td>Cyntoia Brown was a 16 year-old girl who was the victim of sex trafficking. She killed a 43 year-old man in self de… https://t.co/6pGiF8ngxl</td>\n",
       "      <td>NEITHER</td>\n",
       "      <td>0.086</td>\n",
       "      <td>0.312</td>\n",
       "      <td>0.602</td>\n",
       "    </tr>\n",
       "    <tr>\n",
       "      <th>22231</th>\n",
       "      <td>i wish i could be pretty without being harassed by ugly men that mean absolutely nothing to me.</td>\n",
       "      <td>NEITHER</td>\n",
       "      <td>0.177</td>\n",
       "      <td>0.311</td>\n",
       "      <td>0.512</td>\n",
       "    </tr>\n",
       "    <tr>\n",
       "      <th>109753</th>\n",
       "      <td>*clears throat* HOW BOUT THEM COWBOYS</td>\n",
       "      <td>NEITHER</td>\n",
       "      <td>0.161</td>\n",
       "      <td>0.301</td>\n",
       "      <td>0.538</td>\n",
       "    </tr>\n",
       "    <tr>\n",
       "      <th>41226</th>\n",
       "      <td>Dream Animal 1903 by Alfred Kubin (1877–1959) https://t.co/WakZNsy9qm</td>\n",
       "      <td>NEITHER</td>\n",
       "      <td>0.128</td>\n",
       "      <td>0.253</td>\n",
       "      <td>0.618</td>\n",
       "    </tr>\n",
       "  </tbody>\n",
       "</table>\n",
       "</div>"
      ],
      "text/plain": [
       "                                                                                                                                                text  \\\n",
       "124588  @nonamejustheree @Isaidwhatisaid_ @MadMattChicago @Adore_dess @CustomReality ugly ass white people                                             \n",
       "53373   i bet everyone miss their old skin                                                                                                             \n",
       "109940  . @Olacabs @ola_supports where are you when i need you the mostlonely nervous lost in the crowd those eyes on… https://t.co/SHZn31IAu7         \n",
       "135871  @RailMinIndia pnr no.6422208686 train no 12203coche-g7 seatn no.1112 sir watering not supply in this traincharg… https://t.co/OsIPh3LrXf       \n",
       "54281   Latin American government in the 1890s sponsoring European migration in an attempt to whiten their populations. https://t.co/reGlaKyBkN        \n",
       "15054   The latest Book Of Quotes And Poetry! https://t.co/vs9gqwQW4o #dianamarysharpton #musicvideo                                                   \n",
       "138296  @casaliteratura Misery de Stephen king                                                                                                         \n",
       "143529  LETS FUCKING HEAR IT!!!!!!!!                                                                                                                   \n",
       "113642  nigga what we do https://t.co/0s6uGS2mrS                                                                                                       \n",
       "55086   @DianaPenty @deespeak No wonder that urban naxal dia mirza shares her birthday with mother of all urban naxals Sonia Gandhi.                   \n",
       "9228    @add_adora NO PLS TRUST ME FOREVER THE ANGST IS DONE WITH I PROMISE                                                                            \n",
       "6       the baby is cold :( https://t.co/6iG5kAPgRd                                                                                                    \n",
       "130319  We can’t promise snow but we can promise sparkle! Come out next weekend to the most magical show of the season❄️🌟… https://t.co/Wjs8WgVtVm     \n",
       "146593  no matter what happens i will ALWAYS come back to this video  https://t.co/E26NSitGkD                                                          \n",
       "71342   free naughty adult browse chat rooms https://t.co/FVWyU3IUYn no sign up arabic married men dating in union granby m… https://t.co/9megblmLkX   \n",
       "110071  You can use your gift for gab to be more than just the life of... More for Gemini https://t.co/ohDF5nH38a                                      \n",
       "5705    Cyntoia Brown was a 16 year-old girl who was the victim of sex trafficking. She killed a 43 year-old man in self de… https://t.co/6pGiF8ngxl   \n",
       "22231   i wish i could be pretty without being harassed by ugly men that mean absolutely nothing to me.                                                \n",
       "109753  *clears throat* HOW BOUT THEM COWBOYS                                                                                                          \n",
       "41226   Dream Animal 1903 by Alfred Kubin (1877–1959) https://t.co/WakZNsy9qm                                                                          \n",
       "\n",
       "                     class  probability_hate  probability_offensive  \\\n",
       "124588  HATE SPEECH         0.537             0.115                   \n",
       "53373   OFFENSIVE LANGUAGE  0.129             0.561                   \n",
       "109940  HATE SPEECH         0.473             0.328                   \n",
       "135871  NEITHER             0.120             0.346                   \n",
       "54281   NEITHER             0.273             0.288                   \n",
       "15054   NEITHER             0.232             0.128                   \n",
       "138296  OFFENSIVE LANGUAGE  0.234             0.409                   \n",
       "143529  OFFENSIVE LANGUAGE  0.311             0.644                   \n",
       "113642  OFFENSIVE LANGUAGE  0.422             0.439                   \n",
       "55086   NEITHER             0.166             0.077                   \n",
       "9228    NEITHER             0.072             0.399                   \n",
       "6       OFFENSIVE LANGUAGE  0.140             0.532                   \n",
       "130319  NEITHER             0.106             0.156                   \n",
       "146593  NEITHER             0.180             0.271                   \n",
       "71342   NEITHER             0.046             0.100                   \n",
       "110071  OFFENSIVE LANGUAGE  0.069             0.485                   \n",
       "5705    NEITHER             0.086             0.312                   \n",
       "22231   NEITHER             0.177             0.311                   \n",
       "109753  NEITHER             0.161             0.301                   \n",
       "41226   NEITHER             0.128             0.253                   \n",
       "\n",
       "        probability_neither  \n",
       "124588  0.348                \n",
       "53373   0.310                \n",
       "109940  0.199                \n",
       "135871  0.535                \n",
       "54281   0.438                \n",
       "15054   0.640                \n",
       "138296  0.357                \n",
       "143529  0.045                \n",
       "113642  0.139                \n",
       "55086   0.757                \n",
       "9228    0.529                \n",
       "6       0.328                \n",
       "130319  0.738                \n",
       "146593  0.548                \n",
       "71342   0.854                \n",
       "110071  0.446                \n",
       "5705    0.602                \n",
       "22231   0.512                \n",
       "109753  0.538                \n",
       "41226   0.618                "
      ]
     },
     "metadata": {},
     "output_type": "display_data"
    }
   ],
   "source": [
    "display_random_rows(predicted)"
   ]
  },
  {
   "cell_type": "code",
   "execution_count": 31,
   "metadata": {},
   "outputs": [
    {
     "data": {
      "text/plain": [
       "6568"
      ]
     },
     "metadata": {},
     "output_type": "display_data"
    },
    {
     "data": {
      "text/html": [
       "<div>\n",
       "<style scoped>\n",
       "    .dataframe tbody tr th:only-of-type {\n",
       "        vertical-align: middle;\n",
       "    }\n",
       "\n",
       "    .dataframe tbody tr th {\n",
       "        vertical-align: top;\n",
       "    }\n",
       "\n",
       "    .dataframe thead th {\n",
       "        text-align: right;\n",
       "    }\n",
       "</style>\n",
       "<table border=\"1\" class=\"dataframe\">\n",
       "  <thead>\n",
       "    <tr style=\"text-align: right;\">\n",
       "      <th></th>\n",
       "      <th>text</th>\n",
       "      <th>class</th>\n",
       "      <th>probability_hate</th>\n",
       "      <th>probability_offensive</th>\n",
       "      <th>probability_neither</th>\n",
       "    </tr>\n",
       "  </thead>\n",
       "  <tbody>\n",
       "    <tr>\n",
       "      <th>10579</th>\n",
       "      <td>That nigga built so different</td>\n",
       "      <td>HATE SPEECH</td>\n",
       "      <td>0.500</td>\n",
       "      <td>0.382</td>\n",
       "      <td>0.117</td>\n",
       "    </tr>\n",
       "    <tr>\n",
       "      <th>8184</th>\n",
       "      <td>So a communist cannot be a hero? So whoever compliments Castro cannot be a hero? So rising up against the oppressor… https://t.co/YBXoP85an4</td>\n",
       "      <td>HATE SPEECH</td>\n",
       "      <td>0.465</td>\n",
       "      <td>0.153</td>\n",
       "      <td>0.381</td>\n",
       "    </tr>\n",
       "    <tr>\n",
       "      <th>118376</th>\n",
       "      <td>My brothers got a burd in and she’s brought her fucking dog ?!?!??? All I can hear is the poor wee thing scratching to get out</td>\n",
       "      <td>HATE SPEECH</td>\n",
       "      <td>0.661</td>\n",
       "      <td>0.338</td>\n",
       "      <td>0.001</td>\n",
       "    </tr>\n",
       "    <tr>\n",
       "      <th>137188</th>\n",
       "      <td>@xufeitop Whatever or wherever that is it is flat shit cool.</td>\n",
       "      <td>HATE SPEECH</td>\n",
       "      <td>0.434</td>\n",
       "      <td>0.214</td>\n",
       "      <td>0.352</td>\n",
       "    </tr>\n",
       "    <tr>\n",
       "      <th>141494</th>\n",
       "      <td>Really not a fan of green walls https://t.co/xcC7RNmPLl</td>\n",
       "      <td>HATE SPEECH</td>\n",
       "      <td>0.430</td>\n",
       "      <td>0.337</td>\n",
       "      <td>0.233</td>\n",
       "    </tr>\n",
       "    <tr>\n",
       "      <th>66457</th>\n",
       "      <td>officially ended last night I did my first solo show here a year and a half ago at summer bash where I sang an unf… https://t.co/soNuDadXDx</td>\n",
       "      <td>HATE SPEECH</td>\n",
       "      <td>0.427</td>\n",
       "      <td>0.177</td>\n",
       "      <td>0.396</td>\n",
       "    </tr>\n",
       "    <tr>\n",
       "      <th>86482</th>\n",
       "      <td>@iGregJackson Lmfao nigga sickening man</td>\n",
       "      <td>HATE SPEECH</td>\n",
       "      <td>0.527</td>\n",
       "      <td>0.331</td>\n",
       "      <td>0.142</td>\n",
       "    </tr>\n",
       "    <tr>\n",
       "      <th>98994</th>\n",
       "      <td>Lol at gay people defending the str8s rights to say faggot. Lmao like okay cool most adults won't give a fuck but… https://t.co/VigAIAcI7r</td>\n",
       "      <td>HATE SPEECH</td>\n",
       "      <td>0.662</td>\n",
       "      <td>0.330</td>\n",
       "      <td>0.008</td>\n",
       "    </tr>\n",
       "    <tr>\n",
       "      <th>56710</th>\n",
       "      <td>Niggas be like 🗣️ GIVE ME T-MAC FROM '04 FROM THEM EXACT 33 SECONDS OVER ANYONE 😭😭It doesn't work like that 😂</td>\n",
       "      <td>HATE SPEECH</td>\n",
       "      <td>0.412</td>\n",
       "      <td>0.368</td>\n",
       "      <td>0.220</td>\n",
       "    </tr>\n",
       "    <tr>\n",
       "      <th>88308</th>\n",
       "      <td>destiny fans liked killer queen before it was cool</td>\n",
       "      <td>HATE SPEECH</td>\n",
       "      <td>0.419</td>\n",
       "      <td>0.373</td>\n",
       "      <td>0.208</td>\n",
       "    </tr>\n",
       "    <tr>\n",
       "      <th>103724</th>\n",
       "      <td>How the Grinch nigga stole Christmas:</td>\n",
       "      <td>HATE SPEECH</td>\n",
       "      <td>0.532</td>\n",
       "      <td>0.342</td>\n",
       "      <td>0.126</td>\n",
       "    </tr>\n",
       "    <tr>\n",
       "      <th>129780</th>\n",
       "      <td>True that if you can meditate in the middle of a genocide you can probably meditate anywhere. https://t.co/9tAyhgrZCW</td>\n",
       "      <td>HATE SPEECH</td>\n",
       "      <td>0.658</td>\n",
       "      <td>0.270</td>\n",
       "      <td>0.072</td>\n",
       "    </tr>\n",
       "    <tr>\n",
       "      <th>100332</th>\n",
       "      <td>Its dangerous how fast you can order shit on amazon</td>\n",
       "      <td>HATE SPEECH</td>\n",
       "      <td>0.554</td>\n",
       "      <td>0.414</td>\n",
       "      <td>0.032</td>\n",
       "    </tr>\n",
       "    <tr>\n",
       "      <th>50764</th>\n",
       "      <td>Already a great turnout 🇨🇦 and no ANTIFA - guess it's too early for them 😂 https://t.co/Ogoct39xhj</td>\n",
       "      <td>HATE SPEECH</td>\n",
       "      <td>0.383</td>\n",
       "      <td>0.294</td>\n",
       "      <td>0.323</td>\n",
       "    </tr>\n",
       "    <tr>\n",
       "      <th>77073</th>\n",
       "      <td>Hopefully we lose the division so no one has to waste money watching these losers blow their millionth straight home playoff game</td>\n",
       "      <td>HATE SPEECH</td>\n",
       "      <td>0.540</td>\n",
       "      <td>0.238</td>\n",
       "      <td>0.222</td>\n",
       "    </tr>\n",
       "    <tr>\n",
       "      <th>61042</th>\n",
       "      <td>@MeetThePress @KimberlyEAtkins You know what I’m tired of Political reporters thinking I give a shit about their anecdotal bullshit.</td>\n",
       "      <td>HATE SPEECH</td>\n",
       "      <td>0.712</td>\n",
       "      <td>0.091</td>\n",
       "      <td>0.197</td>\n",
       "    </tr>\n",
       "    <tr>\n",
       "      <th>81798</th>\n",
       "      <td>Here’s a cute video of my dog mocking me 🤦🏻‍♀️ https://t.co/OaVDxppiFt</td>\n",
       "      <td>HATE SPEECH</td>\n",
       "      <td>0.426</td>\n",
       "      <td>0.338</td>\n",
       "      <td>0.236</td>\n",
       "    </tr>\n",
       "    <tr>\n",
       "      <th>147959</th>\n",
       "      <td>nigga said fuck yall i want Cardi back. lmaooooo. who is this yall he keeps speaking of??? nigga blaming everybody… https://t.co/QA7C5kPwyP</td>\n",
       "      <td>HATE SPEECH</td>\n",
       "      <td>0.765</td>\n",
       "      <td>0.233</td>\n",
       "      <td>0.002</td>\n",
       "    </tr>\n",
       "    <tr>\n",
       "      <th>126106</th>\n",
       "      <td>Touch down Matt Nagy is a genius and our D plays all sides of this  #Bears</td>\n",
       "      <td>HATE SPEECH</td>\n",
       "      <td>0.480</td>\n",
       "      <td>0.455</td>\n",
       "      <td>0.064</td>\n",
       "    </tr>\n",
       "    <tr>\n",
       "      <th>13733</th>\n",
       "      <td>@Mister_Judah I ain’t sayin she a gold digger but she ain’t messing with no broke niggas</td>\n",
       "      <td>HATE SPEECH</td>\n",
       "      <td>0.493</td>\n",
       "      <td>0.461</td>\n",
       "      <td>0.046</td>\n",
       "    </tr>\n",
       "  </tbody>\n",
       "</table>\n",
       "</div>"
      ],
      "text/plain": [
       "                                                                                                                                                text  \\\n",
       "10579   That nigga built so different                                                                                                                  \n",
       "8184    So a communist cannot be a hero? So whoever compliments Castro cannot be a hero? So rising up against the oppressor… https://t.co/YBXoP85an4   \n",
       "118376  My brothers got a burd in and she’s brought her fucking dog ?!?!??? All I can hear is the poor wee thing scratching to get out                 \n",
       "137188  @xufeitop Whatever or wherever that is it is flat shit cool.                                                                                   \n",
       "141494  Really not a fan of green walls https://t.co/xcC7RNmPLl                                                                                        \n",
       "66457   officially ended last night I did my first solo show here a year and a half ago at summer bash where I sang an unf… https://t.co/soNuDadXDx    \n",
       "86482   @iGregJackson Lmfao nigga sickening man                                                                                                        \n",
       "98994   Lol at gay people defending the str8s rights to say faggot. Lmao like okay cool most adults won't give a fuck but… https://t.co/VigAIAcI7r     \n",
       "56710   Niggas be like 🗣️ GIVE ME T-MAC FROM '04 FROM THEM EXACT 33 SECONDS OVER ANYONE 😭😭It doesn't work like that 😂                                  \n",
       "88308   destiny fans liked killer queen before it was cool                                                                                             \n",
       "103724  How the Grinch nigga stole Christmas:                                                                                                          \n",
       "129780  True that if you can meditate in the middle of a genocide you can probably meditate anywhere. https://t.co/9tAyhgrZCW                          \n",
       "100332  Its dangerous how fast you can order shit on amazon                                                                                            \n",
       "50764   Already a great turnout 🇨🇦 and no ANTIFA - guess it's too early for them 😂 https://t.co/Ogoct39xhj                                             \n",
       "77073   Hopefully we lose the division so no one has to waste money watching these losers blow their millionth straight home playoff game              \n",
       "61042   @MeetThePress @KimberlyEAtkins You know what I’m tired of Political reporters thinking I give a shit about their anecdotal bullshit.           \n",
       "81798   Here’s a cute video of my dog mocking me 🤦🏻‍♀️ https://t.co/OaVDxppiFt                                                                         \n",
       "147959  nigga said fuck yall i want Cardi back. lmaooooo. who is this yall he keeps speaking of??? nigga blaming everybody… https://t.co/QA7C5kPwyP    \n",
       "126106  Touch down Matt Nagy is a genius and our D plays all sides of this  #Bears                                                                     \n",
       "13733   @Mister_Judah I ain’t sayin she a gold digger but she ain’t messing with no broke niggas                                                       \n",
       "\n",
       "              class  probability_hate  probability_offensive  \\\n",
       "10579   HATE SPEECH  0.500             0.382                   \n",
       "8184    HATE SPEECH  0.465             0.153                   \n",
       "118376  HATE SPEECH  0.661             0.338                   \n",
       "137188  HATE SPEECH  0.434             0.214                   \n",
       "141494  HATE SPEECH  0.430             0.337                   \n",
       "66457   HATE SPEECH  0.427             0.177                   \n",
       "86482   HATE SPEECH  0.527             0.331                   \n",
       "98994   HATE SPEECH  0.662             0.330                   \n",
       "56710   HATE SPEECH  0.412             0.368                   \n",
       "88308   HATE SPEECH  0.419             0.373                   \n",
       "103724  HATE SPEECH  0.532             0.342                   \n",
       "129780  HATE SPEECH  0.658             0.270                   \n",
       "100332  HATE SPEECH  0.554             0.414                   \n",
       "50764   HATE SPEECH  0.383             0.294                   \n",
       "77073   HATE SPEECH  0.540             0.238                   \n",
       "61042   HATE SPEECH  0.712             0.091                   \n",
       "81798   HATE SPEECH  0.426             0.338                   \n",
       "147959  HATE SPEECH  0.765             0.233                   \n",
       "126106  HATE SPEECH  0.480             0.455                   \n",
       "13733   HATE SPEECH  0.493             0.461                   \n",
       "\n",
       "        probability_neither  \n",
       "10579   0.117                \n",
       "8184    0.381                \n",
       "118376  0.001                \n",
       "137188  0.352                \n",
       "141494  0.233                \n",
       "66457   0.396                \n",
       "86482   0.142                \n",
       "98994   0.008                \n",
       "56710   0.220                \n",
       "88308   0.208                \n",
       "103724  0.126                \n",
       "129780  0.072                \n",
       "100332  0.032                \n",
       "50764   0.323                \n",
       "77073   0.222                \n",
       "61042   0.197                \n",
       "81798   0.236                \n",
       "147959  0.002                \n",
       "126106  0.064                \n",
       "13733   0.046                "
      ]
     },
     "metadata": {},
     "output_type": "display_data"
    }
   ],
   "source": [
    "hate_examples = predicted[predicted['class'] == 'HATE SPEECH']\n",
    "display(len(hate_examples))\n",
    "display_random_rows(hate_examples)"
   ]
  },
  {
   "cell_type": "code",
   "execution_count": 35,
   "metadata": {},
   "outputs": [
    {
     "data": {
      "text/html": [
       "<div>\n",
       "<style scoped>\n",
       "    .dataframe tbody tr th:only-of-type {\n",
       "        vertical-align: middle;\n",
       "    }\n",
       "\n",
       "    .dataframe tbody tr th {\n",
       "        vertical-align: top;\n",
       "    }\n",
       "\n",
       "    .dataframe thead th {\n",
       "        text-align: right;\n",
       "    }\n",
       "</style>\n",
       "<table border=\"1\" class=\"dataframe\">\n",
       "  <thead>\n",
       "    <tr style=\"text-align: right;\">\n",
       "      <th></th>\n",
       "      <th>text</th>\n",
       "      <th>class</th>\n",
       "      <th>probability_hate</th>\n",
       "      <th>probability_offensive</th>\n",
       "      <th>probability_neither</th>\n",
       "    </tr>\n",
       "  </thead>\n",
       "  <tbody>\n",
       "    <tr>\n",
       "      <th>469</th>\n",
       "      <td>Good morning faggots how much do you wanna gag on my strap on?!😈Amazon/circle pay Hotkiten1234@outlook.com#VRT… https://t.co/zw8qX61Ye6</td>\n",
       "      <td>HATE SPEECH</td>\n",
       "      <td>0.807</td>\n",
       "      <td>0.171</td>\n",
       "      <td>0.022</td>\n",
       "    </tr>\n",
       "    <tr>\n",
       "      <th>2848</th>\n",
       "      <td>Lonzo Ball held Opposing Grizzly Point Guards to 1-6 (16.67%) FG%Conley 1-4Mack 0-22 Steals https://t.co/HuB2ouqyPb</td>\n",
       "      <td>HATE SPEECH</td>\n",
       "      <td>0.707</td>\n",
       "      <td>0.188</td>\n",
       "      <td>0.105</td>\n",
       "    </tr>\n",
       "    <tr>\n",
       "      <th>3313</th>\n",
       "      <td>@ngb_lilbreezy man fuck you guys. you harassed a worker for doing his fucking job. he obviously has a social disord… https://t.co/ZGz2lwz32T</td>\n",
       "      <td>HATE SPEECH</td>\n",
       "      <td>0.701</td>\n",
       "      <td>0.287</td>\n",
       "      <td>0.012</td>\n",
       "    </tr>\n",
       "    <tr>\n",
       "      <th>4184</th>\n",
       "      <td>@patel4witham There is no “out of context” - your comments are appalling and tantamount to an act of aggression aga… https://t.co/hSkVRzsPl0</td>\n",
       "      <td>HATE SPEECH</td>\n",
       "      <td>0.746</td>\n",
       "      <td>0.177</td>\n",
       "      <td>0.077</td>\n",
       "    </tr>\n",
       "    <tr>\n",
       "      <th>8029</th>\n",
       "      <td>I fucking HATE when people blame delivery people as if it’s their fault the restaurant fucked up the order. Deliver… https://t.co/GgNJDc2QJJ</td>\n",
       "      <td>HATE SPEECH</td>\n",
       "      <td>0.720</td>\n",
       "      <td>0.274</td>\n",
       "      <td>0.006</td>\n",
       "    </tr>\n",
       "  </tbody>\n",
       "</table>\n",
       "</div>"
      ],
      "text/plain": [
       "                                                                                                                                              text  \\\n",
       "469   Good morning faggots how much do you wanna gag on my strap on?!😈Amazon/circle pay Hotkiten1234@outlook.com#VRT… https://t.co/zw8qX61Ye6        \n",
       "2848  Lonzo Ball held Opposing Grizzly Point Guards to 1-6 (16.67%) FG%Conley 1-4Mack 0-22 Steals https://t.co/HuB2ouqyPb                            \n",
       "3313  @ngb_lilbreezy man fuck you guys. you harassed a worker for doing his fucking job. he obviously has a social disord… https://t.co/ZGz2lwz32T   \n",
       "4184  @patel4witham There is no “out of context” - your comments are appalling and tantamount to an act of aggression aga… https://t.co/hSkVRzsPl0   \n",
       "8029  I fucking HATE when people blame delivery people as if it’s their fault the restaurant fucked up the order. Deliver… https://t.co/GgNJDc2QJJ   \n",
       "\n",
       "            class  probability_hate  probability_offensive  \\\n",
       "469   HATE SPEECH  0.807             0.171                   \n",
       "2848  HATE SPEECH  0.707             0.188                   \n",
       "3313  HATE SPEECH  0.701             0.287                   \n",
       "4184  HATE SPEECH  0.746             0.177                   \n",
       "8029  HATE SPEECH  0.720             0.274                   \n",
       "\n",
       "      probability_neither  \n",
       "469   0.022                \n",
       "2848  0.105                \n",
       "3313  0.012                \n",
       "4184  0.077                \n",
       "8029  0.006                "
      ]
     },
     "metadata": {},
     "output_type": "display_data"
    },
    {
     "name": "stdout",
     "output_type": "stream",
     "text": [
      "Very probably hate count: 138\n"
     ]
    }
   ],
   "source": [
    "very_probably_hate = predicted[predicted.probability_hate > 0.7]\n",
    "display(very_probably_hate.head())\n",
    "print('Very probably hate count: {}'.format(len(very_probably_hate)))"
   ]
  },
  {
   "cell_type": "code",
   "execution_count": 36,
   "metadata": {},
   "outputs": [],
   "source": [
    "predicted.to_csv('data/classified-tweets.csv')"
   ]
  },
  {
   "cell_type": "code",
   "execution_count": null,
   "metadata": {},
   "outputs": [],
   "source": []
  }
 ],
 "metadata": {
  "kernelspec": {
   "display_name": "Python 3",
   "language": "python",
   "name": "python3"
  },
  "language_info": {
   "codemirror_mode": {
    "name": "ipython",
    "version": 3
   },
   "file_extension": ".py",
   "mimetype": "text/x-python",
   "name": "python",
   "nbconvert_exporter": "python",
   "pygments_lexer": "ipython3",
   "version": "3.7.0"
  }
 },
 "nbformat": 4,
 "nbformat_minor": 2
}
