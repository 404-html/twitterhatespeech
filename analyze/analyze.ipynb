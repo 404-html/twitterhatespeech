{
 "cells": [
  {
   "cell_type": "code",
   "execution_count": 203,
   "metadata": {},
   "outputs": [],
   "source": [
    "import pandas as pd\n",
    "import numpy as np\n",
    "# from dateutil.parser import parser\n",
    "# from dateutil.tz import gettz\n",
    "from datetime import datetime\n",
    "import time\n",
    "import re\n",
    "import json"
   ]
  },
  {
   "cell_type": "code",
   "execution_count": 2,
   "metadata": {},
   "outputs": [
    {
     "name": "stdout",
     "output_type": "stream",
     "text": [
      "(1069728068015677440,MarkMillerITPro,Mon Dec 03 17:00:20 CST 2018,“Alexa open Night Light.” Depending on where you place an Echo this can be helpful for times when other sources of… https://t.co/pw9U675xwE,true,false,0,0,false,(,),1)\n"
     ]
    }
   ],
   "source": [
    "!head -n 1 Data/tweets/part-00000"
   ]
  },
  {
   "cell_type": "code",
   "execution_count": 9,
   "metadata": {},
   "outputs": [
    {
     "name": "stdout",
     "output_type": "stream",
     "text": [
      "94749 Data/tweets/part-00000\n"
     ]
    }
   ],
   "source": [
    "!wc -l Data/tweets/part-00000"
   ]
  },
  {
   "cell_type": "code",
   "execution_count": 102,
   "metadata": {},
   "outputs": [
    {
     "name": "stdout",
     "output_type": "stream",
     "text": [
      "174469 Data/retweets/part-00000\n"
     ]
    }
   ],
   "source": [
    "!wc -l Data/retweets/part-00000"
   ]
  },
  {
   "cell_type": "code",
   "execution_count": 103,
   "metadata": {},
   "outputs": [],
   "source": [
    "with open('Data/tweets/part-00000') as f:\n",
    "    tweet_lines = f.readlines()\n",
    "tweet_lines = [x.strip().split(',') for x in tweet_lines] "
   ]
  },
  {
   "cell_type": "code",
   "execution_count": 104,
   "metadata": {},
   "outputs": [],
   "source": [
    "with open('Data/retweets/part-00000') as f:\n",
    "    retweet_lines = f.readlines()\n",
    "retweet_lines = [x.strip().split(',') for x in retweet_lines] "
   ]
  },
  {
   "cell_type": "code",
   "execution_count": 105,
   "metadata": {},
   "outputs": [
    {
     "data": {
      "text/plain": [
       "(94749, 174469)"
      ]
     },
     "execution_count": 105,
     "metadata": {},
     "output_type": "execute_result"
    }
   ],
   "source": [
    "len(tweet_lines), len(retweet_lines)"
   ]
  },
  {
   "cell_type": "code",
   "execution_count": 106,
   "metadata": {},
   "outputs": [
    {
     "data": {
      "text/plain": [
       "(12, 12)"
      ]
     },
     "execution_count": 106,
     "metadata": {},
     "output_type": "execute_result"
    }
   ],
   "source": [
    "len(tweet_lines[0]), len(retweet_lines[0])"
   ]
  },
  {
   "cell_type": "code",
   "execution_count": 162,
   "metadata": {},
   "outputs": [
    {
     "name": "stdout",
     "output_type": "stream",
     "text": [
      "it took 1.4272100925445557 seconds to create dictionary\n"
     ]
    }
   ],
   "source": [
    "start = time.time()\n",
    "tweet_dict = {}\n",
    "for tweet in tweet_lines:\n",
    "    if tweet[0][1:] in tweet_dict:\n",
    "        tweet_dict[tweet[0][1:]]['count'] += 1 \n",
    "    else:\n",
    "        tweet_dict[tweet[0][1:]] = {}\n",
    "        tweet_dict[tweet[0][1:]]['count'] = 1\n",
    "        tweet_dict[tweet[0][1:]]['retweet_count'] = int(tweet[6])\n",
    "        tweet_dict[tweet[0][1:]]['fav_count'] = int(tweet[7])\n",
    "    tweet_dict[tweet[0][1:]]['username'] = tweet[1]\n",
    "    tweet_dict[tweet[0][1:]]['created'] = datetime.strptime(tweet[2][:19]+tweet[2][23:], '%a %b %d %H:%M:%S %Y')\n",
    "    tweet_dict[tweet[0][1:]]['text'] = tweet[3]\n",
    "    tweet_dict[tweet[0][1:]]['truncated'] = tweet[4]=='true'\n",
    "    tweet_dict[tweet[0][1:]]['retweet'] = tweet[5]=='true'\n",
    "    tweet_dict[tweet[0][1:]]['retweet_count'] = int(tweet[6])\n",
    "    tweet_dict[tweet[0][1:]]['fav_count'] = int(tweet[7])\n",
    "    tweet_dict[tweet[0][1:]]['sensitive'] = tweet[8]=='true'\n",
    "    tweet_dict[tweet[0][1:]]['country'] = tweet[9][1:]\n",
    "    tweet_dict[tweet[0][1:]]['place'] = tweet[10][:-1]\n",
    "    tweet_dict[tweet[0][1:]]['hate_count'] = int(tweet[-1][:-1])\n",
    "print(f\"it took {time.time()-start} seconds to create dictionary\")"
   ]
  },
  {
   "cell_type": "markdown",
   "metadata": {},
   "source": [
    "- parser: it took 11.324670553207397 seconds to create dictionary\n",
    "- datetime.strptime: it took 1.355278491973877 seconds to create dictionary"
   ]
  },
  {
   "cell_type": "code",
   "execution_count": 128,
   "metadata": {},
   "outputs": [],
   "source": [
    "for i in retweet_lines:\n",
    "    if len(i[2]) != 28:\n",
    "        print(i)"
   ]
  },
  {
   "cell_type": "code",
   "execution_count": 133,
   "metadata": {},
   "outputs": [
    {
     "data": {
      "text/plain": [
       "'Mon Dec 03 15:38:39 2018'"
      ]
     },
     "execution_count": 133,
     "metadata": {},
     "output_type": "execute_result"
    }
   ],
   "source": [
    "retweet_lines[0][2][:19]+retweet_lines[0][2][23:]"
   ]
  },
  {
   "cell_type": "code",
   "execution_count": 129,
   "metadata": {},
   "outputs": [
    {
     "data": {
      "text/plain": [
       "20"
      ]
     },
     "execution_count": 129,
     "metadata": {},
     "output_type": "execute_result"
    }
   ],
   "source": [
    "retweet_lines[0][2].find(\"CST\")"
   ]
  },
  {
   "cell_type": "code",
   "execution_count": 161,
   "metadata": {},
   "outputs": [
    {
     "name": "stdout",
     "output_type": "stream",
     "text": [
      "it took 2.6290180683135986 seconds to create dictionary\n"
     ]
    }
   ],
   "source": [
    "start = time.time()\n",
    "retweet_dict = {}\n",
    "for tweet in retweet_lines:\n",
    "    if tweet[0][1:] in retweet_dict:\n",
    "        retweet_dict[tweet[0][1:]]['count'] += 1 \n",
    "        retweet_dict[tweet[0][1:]]['retweet_count'] += int(tweet[6])\n",
    "        retweet_dict[tweet[0][1:]]['fav_count'] += int(tweet[7])\n",
    "    else:\n",
    "        retweet_dict[tweet[0][1:]] = {}\n",
    "        retweet_dict[tweet[0][1:]]['count'] = 1\n",
    "        retweet_dict[tweet[0][1:]]['retweet_count'] = int(tweet[6])\n",
    "        retweet_dict[tweet[0][1:]]['fav_count'] = int(tweet[7])\n",
    "    retweet_dict[tweet[0][1:]]['username'] = tweet[1]\n",
    "    retweet_dict[tweet[0][1:]]['created'] = datetime.strptime(tweet[2][:19]+tweet[2][23:], '%a %b %d %H:%M:%S %Y')\n",
    "    retweet_dict[tweet[0][1:]]['text'] = tweet[3]\n",
    "    retweet_dict[tweet[0][1:]]['truncated'] = tweet[4]=='true'\n",
    "    retweet_dict[tweet[0][1:]]['retweet'] = tweet[5]=='true'\n",
    "    retweet_dict[tweet[0][1:]]['sensitive'] = tweet[8]=='true'\n",
    "    retweet_dict[tweet[0][1:]]['country'] = tweet[9][1:]\n",
    "    retweet_dict[tweet[0][1:]]['place'] = tweet[10][:-1]\n",
    "    retweet_dict[tweet[0][1:]]['hate_count'] = int(tweet[-1][:-1])\n",
    "print(f\"it took {time.time()-start} seconds to create dictionary\")"
   ]
  },
  {
   "cell_type": "code",
   "execution_count": 136,
   "metadata": {},
   "outputs": [
    {
     "data": {
      "text/plain": [
       "(94480, 82758)"
      ]
     },
     "execution_count": 136,
     "metadata": {},
     "output_type": "execute_result"
    }
   ],
   "source": [
    "len(tweet_dict.keys()), len(retweet_dict.keys())"
   ]
  },
  {
   "cell_type": "code",
   "execution_count": 137,
   "metadata": {},
   "outputs": [
    {
     "data": {
      "text/plain": [
       "269"
      ]
     },
     "execution_count": 137,
     "metadata": {},
     "output_type": "execute_result"
    }
   ],
   "source": [
    "# number of duplicated tweets\n",
    "len(tweet_lines)-len(tweet_dict.keys())"
   ]
  },
  {
   "cell_type": "code",
   "execution_count": 138,
   "metadata": {},
   "outputs": [
    {
     "data": {
      "text/plain": [
       "91711"
      ]
     },
     "execution_count": 138,
     "metadata": {},
     "output_type": "execute_result"
    }
   ],
   "source": [
    "# number of duplicated retweets\n",
    "len(retweet_lines)-len(retweet_dict.keys())"
   ]
  },
  {
   "cell_type": "code",
   "execution_count": 148,
   "metadata": {},
   "outputs": [
    {
     "name": "stdout",
     "output_type": "stream",
     "text": [
      "1069370188934639616 575\n",
      "1069784569975517184 515\n"
     ]
    }
   ],
   "source": [
    "# get a few examples of duplicate retweets\n",
    "for tweet in retweet_dict:\n",
    "    if retweet_dict[tweet]['count'] > 500:\n",
    "        print(tweet, retweet_dict[tweet]['count'])"
   ]
  },
  {
   "cell_type": "code",
   "execution_count": 152,
   "metadata": {},
   "outputs": [
    {
     "name": "stdout",
     "output_type": "stream",
     "text": [
      "1069280664640311297 84\n",
      "1069579640103100417 81\n",
      "1069809990460891136 90\n",
      "1069605669001723904 86\n",
      "1069811482332983296 82\n",
      "1069877363876528133 85\n",
      "1068644947048443904 85\n"
     ]
    }
   ],
   "source": [
    "# get a few examples of duplicate retweets\n",
    "for tweet in retweet_dict:\n",
    "    if retweet_dict[tweet]['hate_count'] > 80:\n",
    "        print(tweet, retweet_dict[tweet]['hate_count'])"
   ]
  },
  {
   "cell_type": "code",
   "execution_count": 156,
   "metadata": {},
   "outputs": [
    {
     "data": {
      "text/plain": [
       "{'count': 1,\n",
       " 'username': 'ACTJISUS',\n",
       " 'created': datetime.datetime(2018, 12, 2, 11, 22, 31),\n",
       " 'text': 'Bobby                          Bobbyas a                              with aBaby                             Baby https://t.co/NThoCJj6mX',\n",
       " 'truncated': False,\n",
       " 'retweet': False,\n",
       " 'retweet_count': 1142,\n",
       " 'fav_count': 1432,\n",
       " 'sensitive': False,\n",
       " 'country': '',\n",
       " 'place': '',\n",
       " 'hate_count': 84}"
      ]
     },
     "execution_count": 156,
     "metadata": {},
     "output_type": "execute_result"
    }
   ],
   "source": [
    "retweet_dict['1069280664640311297']"
   ]
  },
  {
   "cell_type": "code",
   "execution_count": 157,
   "metadata": {},
   "outputs": [
    {
     "name": "stdout",
     "output_type": "stream",
     "text": [
      "['(1069728994961055745', 'ffemt01', 'Mon Dec 03 17:04:01 CST 2018', '@kimswallows What a lucky fan', 'false', 'false', '0', '0', 'false', '(', ')', '2)']\n",
      "['(1069728994961055745', 'ffemt01', 'Mon Dec 03 17:04:01 CST 2018', '@kimswallows What a lucky fan', 'false', 'false', '0', '0', 'false', '(', ')', '2)']\n",
      "['(1069728994961055745', 'ffemt01', 'Mon Dec 03 17:04:01 CST 2018', '@kimswallows What a lucky fan', 'false', 'false', '0', '0', 'false', '(', ')', '2)']\n",
      "['(1069728994961055745', 'ffemt01', 'Mon Dec 03 17:04:01 CST 2018', '@kimswallows What a lucky fan', 'false', 'false', '0', '0', 'false', '(', ')', '2)']\n"
     ]
    }
   ],
   "source": [
    "# check duplicated tweets\n",
    "for tweet in tweet_lines:\n",
    "    if tweet[0][1:] == '1069728994961055745':\n",
    "        print(tweet)"
   ]
  },
  {
   "cell_type": "code",
   "execution_count": null,
   "metadata": {},
   "outputs": [],
   "source": [
    "for tweet in retweet_lines:\n",
    "    if tweet[0][1:] == '1069370188934639616':\n",
    "        print(tweet)"
   ]
  },
  {
   "cell_type": "code",
   "execution_count": 206,
   "metadata": {},
   "outputs": [],
   "source": [
    "with open('Data/tweets.json', 'w') as f:\n",
    "    json.dump(tweet_dict, f, default=str)\n",
    "with open('Data/retweets.json', 'w') as f:\n",
    "    json.dump(retweet_dict, f, default=str)"
   ]
  },
  {
   "cell_type": "code",
   "execution_count": 232,
   "metadata": {},
   "outputs": [],
   "source": [
    "tweet_df = pd.read_json('Data/tweets.json', orient='index', convert_dates=['created'])\n",
    "retweet_df = pd.read_json('Data/retweets.json', orient='index', convert_dates=['created'])"
   ]
  },
  {
   "cell_type": "code",
   "execution_count": 212,
   "metadata": {},
   "outputs": [
    {
     "data": {
      "text/plain": [
       "((94480, 12), (82758, 12))"
      ]
     },
     "execution_count": 212,
     "metadata": {},
     "output_type": "execute_result"
    }
   ],
   "source": [
    "tweet_df.shape, retweet_df.shape"
   ]
  },
  {
   "cell_type": "code",
   "execution_count": 231,
   "metadata": {},
   "outputs": [
    {
     "data": {
      "text/html": [
       "<div>\n",
       "<style scoped>\n",
       "    .dataframe tbody tr th:only-of-type {\n",
       "        vertical-align: middle;\n",
       "    }\n",
       "\n",
       "    .dataframe tbody tr th {\n",
       "        vertical-align: top;\n",
       "    }\n",
       "\n",
       "    .dataframe thead th {\n",
       "        text-align: right;\n",
       "    }\n",
       "</style>\n",
       "<table border=\"1\" class=\"dataframe\">\n",
       "  <thead>\n",
       "    <tr style=\"text-align: right;\">\n",
       "      <th></th>\n",
       "      <th>count</th>\n",
       "      <th>country</th>\n",
       "      <th>created</th>\n",
       "      <th>fav_count</th>\n",
       "      <th>hate_count</th>\n",
       "      <th>place</th>\n",
       "      <th>retweet</th>\n",
       "      <th>retweet_count</th>\n",
       "      <th>sensitive</th>\n",
       "      <th>text</th>\n",
       "      <th>truncated</th>\n",
       "      <th>username</th>\n",
       "    </tr>\n",
       "  </thead>\n",
       "  <tbody>\n",
       "    <tr>\n",
       "      <th>2003-11-25 02:41:08.015677440</th>\n",
       "      <td>1</td>\n",
       "      <td></td>\n",
       "      <td>2018-12-03 17:00:20</td>\n",
       "      <td>0</td>\n",
       "      <td>1</td>\n",
       "      <td></td>\n",
       "      <td>0</td>\n",
       "      <td>0</td>\n",
       "      <td>0</td>\n",
       "      <td>“Alexa open Night Light.” Depending on where y...</td>\n",
       "      <td>1</td>\n",
       "      <td>MarkMillerITPro</td>\n",
       "    </tr>\n",
       "    <tr>\n",
       "      <th>2003-11-25 02:41:08.040777729</th>\n",
       "      <td>1</td>\n",
       "      <td></td>\n",
       "      <td>2018-12-03 17:00:20</td>\n",
       "      <td>0</td>\n",
       "      <td>1</td>\n",
       "      <td></td>\n",
       "      <td>0</td>\n",
       "      <td>0</td>\n",
       "      <td>0</td>\n",
       "      <td>this pic made me get up on time for the gym to...</td>\n",
       "      <td>0</td>\n",
       "      <td>IamPatriciaTone</td>\n",
       "    </tr>\n",
       "    <tr>\n",
       "      <th>2003-11-25 02:41:12.214016002</th>\n",
       "      <td>1</td>\n",
       "      <td></td>\n",
       "      <td>2018-12-03 17:00:21</td>\n",
       "      <td>0</td>\n",
       "      <td>2</td>\n",
       "      <td></td>\n",
       "      <td>0</td>\n",
       "      <td>0</td>\n",
       "      <td>0</td>\n",
       "      <td>@Dan23_92 And if a player has a bad game  does...</td>\n",
       "      <td>1</td>\n",
       "      <td>MattHun67472111</td>\n",
       "    </tr>\n",
       "    <tr>\n",
       "      <th>2003-11-25 02:41:12.218411009</th>\n",
       "      <td>1</td>\n",
       "      <td></td>\n",
       "      <td>2018-12-03 17:00:21</td>\n",
       "      <td>0</td>\n",
       "      <td>1</td>\n",
       "      <td></td>\n",
       "      <td>0</td>\n",
       "      <td>0</td>\n",
       "      <td>0</td>\n",
       "      <td>Wonderful friends who love what DiscoveryBound...</td>\n",
       "      <td>1</td>\n",
       "      <td>DiscoveryBound</td>\n",
       "    </tr>\n",
       "    <tr>\n",
       "      <th>2003-11-25 02:41:16.421099521</th>\n",
       "      <td>1</td>\n",
       "      <td></td>\n",
       "      <td>2018-12-03 17:00:22</td>\n",
       "      <td>0</td>\n",
       "      <td>1</td>\n",
       "      <td></td>\n",
       "      <td>0</td>\n",
       "      <td>0</td>\n",
       "      <td>0</td>\n",
       "      <td>2018 was a good year for me. #unpopularopinion</td>\n",
       "      <td>0</td>\n",
       "      <td>kirstiwilder</td>\n",
       "    </tr>\n",
       "  </tbody>\n",
       "</table>\n",
       "</div>"
      ],
      "text/plain": [
       "                               count country             created  fav_count  \\\n",
       "2003-11-25 02:41:08.015677440      1         2018-12-03 17:00:20          0   \n",
       "2003-11-25 02:41:08.040777729      1         2018-12-03 17:00:20          0   \n",
       "2003-11-25 02:41:12.214016002      1         2018-12-03 17:00:21          0   \n",
       "2003-11-25 02:41:12.218411009      1         2018-12-03 17:00:21          0   \n",
       "2003-11-25 02:41:16.421099521      1         2018-12-03 17:00:22          0   \n",
       "\n",
       "                               hate_count place  retweet  retweet_count  \\\n",
       "2003-11-25 02:41:08.015677440           1              0              0   \n",
       "2003-11-25 02:41:08.040777729           1              0              0   \n",
       "2003-11-25 02:41:12.214016002           2              0              0   \n",
       "2003-11-25 02:41:12.218411009           1              0              0   \n",
       "2003-11-25 02:41:16.421099521           1              0              0   \n",
       "\n",
       "                               sensitive  \\\n",
       "2003-11-25 02:41:08.015677440          0   \n",
       "2003-11-25 02:41:08.040777729          0   \n",
       "2003-11-25 02:41:12.214016002          0   \n",
       "2003-11-25 02:41:12.218411009          0   \n",
       "2003-11-25 02:41:16.421099521          0   \n",
       "\n",
       "                                                                            text  \\\n",
       "2003-11-25 02:41:08.015677440  “Alexa open Night Light.” Depending on where y...   \n",
       "2003-11-25 02:41:08.040777729  this pic made me get up on time for the gym to...   \n",
       "2003-11-25 02:41:12.214016002  @Dan23_92 And if a player has a bad game  does...   \n",
       "2003-11-25 02:41:12.218411009  Wonderful friends who love what DiscoveryBound...   \n",
       "2003-11-25 02:41:16.421099521     2018 was a good year for me. #unpopularopinion   \n",
       "\n",
       "                               truncated         username  \n",
       "2003-11-25 02:41:08.015677440          1  MarkMillerITPro  \n",
       "2003-11-25 02:41:08.040777729          0  IamPatriciaTone  \n",
       "2003-11-25 02:41:12.214016002          1  MattHun67472111  \n",
       "2003-11-25 02:41:12.218411009          1   DiscoveryBound  \n",
       "2003-11-25 02:41:16.421099521          0     kirstiwilder  "
      ]
     },
     "execution_count": 231,
     "metadata": {},
     "output_type": "execute_result"
    }
   ],
   "source": [
    "tweet_df.head()"
   ]
  },
  {
   "cell_type": "code",
   "execution_count": 214,
   "metadata": {},
   "outputs": [
    {
     "data": {
      "text/html": [
       "<div>\n",
       "<style scoped>\n",
       "    .dataframe tbody tr th:only-of-type {\n",
       "        vertical-align: middle;\n",
       "    }\n",
       "\n",
       "    .dataframe tbody tr th {\n",
       "        vertical-align: top;\n",
       "    }\n",
       "\n",
       "    .dataframe thead th {\n",
       "        text-align: right;\n",
       "    }\n",
       "</style>\n",
       "<table border=\"1\" class=\"dataframe\">\n",
       "  <thead>\n",
       "    <tr style=\"text-align: right;\">\n",
       "      <th></th>\n",
       "      <th>count</th>\n",
       "      <th>country</th>\n",
       "      <th>created</th>\n",
       "      <th>fav_count</th>\n",
       "      <th>hate_count</th>\n",
       "      <th>place</th>\n",
       "      <th>retweet</th>\n",
       "      <th>retweet_count</th>\n",
       "      <th>sensitive</th>\n",
       "      <th>text</th>\n",
       "      <th>truncated</th>\n",
       "      <th>username</th>\n",
       "    </tr>\n",
       "  </thead>\n",
       "  <tbody>\n",
       "    <tr>\n",
       "      <th>2003-11-24 20:58:30.423187457</th>\n",
       "      <td>110</td>\n",
       "      <td></td>\n",
       "      <td>2018-12-03 15:38:39</td>\n",
       "      <td>5563932</td>\n",
       "      <td>1</td>\n",
       "      <td></td>\n",
       "      <td>0</td>\n",
       "      <td>2013671</td>\n",
       "      <td>0</td>\n",
       "      <td>I’m so glad I met these boys and we chased dow...</td>\n",
       "      <td>1</td>\n",
       "      <td>Luke5SOS</td>\n",
       "    </tr>\n",
       "    <tr>\n",
       "      <th>2003-11-16 05:24:28.846317572</th>\n",
       "      <td>7</td>\n",
       "      <td></td>\n",
       "      <td>2018-12-01 14:09:23</td>\n",
       "      <td>240278</td>\n",
       "      <td>1</td>\n",
       "      <td></td>\n",
       "      <td>0</td>\n",
       "      <td>131707</td>\n",
       "      <td>0</td>\n",
       "      <td>if you didn't ask me don't assume. if u didn't...</td>\n",
       "      <td>1</td>\n",
       "      <td>xforcades2</td>\n",
       "    </tr>\n",
       "    <tr>\n",
       "      <th>2003-11-17 06:43:40.308058112</th>\n",
       "      <td>21</td>\n",
       "      <td></td>\n",
       "      <td>2018-12-01 20:11:35</td>\n",
       "      <td>2594754</td>\n",
       "      <td>1</td>\n",
       "      <td></td>\n",
       "      <td>0</td>\n",
       "      <td>778049</td>\n",
       "      <td>0</td>\n",
       "      <td>Raccoons really be the crackheads of the anima...</td>\n",
       "      <td>0</td>\n",
       "      <td>NoelSznn</td>\n",
       "    </tr>\n",
       "    <tr>\n",
       "      <th>2003-11-24 22:12:01.828544517</th>\n",
       "      <td>1</td>\n",
       "      <td></td>\n",
       "      <td>2018-12-03 15:56:11</td>\n",
       "      <td>9</td>\n",
       "      <td>1</td>\n",
       "      <td></td>\n",
       "      <td>0</td>\n",
       "      <td>3</td>\n",
       "      <td>0</td>\n",
       "      <td>\"Peachy~!\"//AU!Peach where she got married to ...</td>\n",
       "      <td>1</td>\n",
       "      <td>_KoopaQueen_</td>\n",
       "    </tr>\n",
       "    <tr>\n",
       "      <th>2003-11-24 12:22:07.414099968</th>\n",
       "      <td>24</td>\n",
       "      <td></td>\n",
       "      <td>2018-12-03 13:35:32</td>\n",
       "      <td>88806</td>\n",
       "      <td>2</td>\n",
       "      <td></td>\n",
       "      <td>0</td>\n",
       "      <td>63855</td>\n",
       "      <td>0</td>\n",
       "      <td>\"Federal Employees Are Warned Not to Discuss T...</td>\n",
       "      <td>1</td>\n",
       "      <td>JamesOKeefeIII</td>\n",
       "    </tr>\n",
       "  </tbody>\n",
       "</table>\n",
       "</div>"
      ],
      "text/plain": [
       "                               count country              created  fav_count  \\\n",
       "2003-11-24 20:58:30.423187457    110          2018-12-03 15:38:39    5563932   \n",
       "2003-11-16 05:24:28.846317572      7          2018-12-01 14:09:23     240278   \n",
       "2003-11-17 06:43:40.308058112     21          2018-12-01 20:11:35    2594754   \n",
       "2003-11-24 22:12:01.828544517      1          2018-12-03 15:56:11          9   \n",
       "2003-11-24 12:22:07.414099968     24          2018-12-03 13:35:32      88806   \n",
       "\n",
       "                               hate_count place  retweet  retweet_count  \\\n",
       "2003-11-24 20:58:30.423187457           1              0        2013671   \n",
       "2003-11-16 05:24:28.846317572           1              0         131707   \n",
       "2003-11-17 06:43:40.308058112           1              0         778049   \n",
       "2003-11-24 22:12:01.828544517           1              0              3   \n",
       "2003-11-24 12:22:07.414099968           2              0          63855   \n",
       "\n",
       "                               sensitive  \\\n",
       "2003-11-24 20:58:30.423187457          0   \n",
       "2003-11-16 05:24:28.846317572          0   \n",
       "2003-11-17 06:43:40.308058112          0   \n",
       "2003-11-24 22:12:01.828544517          0   \n",
       "2003-11-24 12:22:07.414099968          0   \n",
       "\n",
       "                                                                            text  \\\n",
       "2003-11-24 20:58:30.423187457  I’m so glad I met these boys and we chased dow...   \n",
       "2003-11-16 05:24:28.846317572  if you didn't ask me don't assume. if u didn't...   \n",
       "2003-11-17 06:43:40.308058112  Raccoons really be the crackheads of the anima...   \n",
       "2003-11-24 22:12:01.828544517  \"Peachy~!\"//AU!Peach where she got married to ...   \n",
       "2003-11-24 12:22:07.414099968  \"Federal Employees Are Warned Not to Discuss T...   \n",
       "\n",
       "                               truncated        username  \n",
       "2003-11-24 20:58:30.423187457          1        Luke5SOS  \n",
       "2003-11-16 05:24:28.846317572          1      xforcades2  \n",
       "2003-11-17 06:43:40.308058112          0        NoelSznn  \n",
       "2003-11-24 22:12:01.828544517          1    _KoopaQueen_  \n",
       "2003-11-24 12:22:07.414099968          1  JamesOKeefeIII  "
      ]
     },
     "execution_count": 214,
     "metadata": {},
     "output_type": "execute_result"
    }
   ],
   "source": [
    "retweet_df.head()"
   ]
  },
  {
   "cell_type": "code",
   "execution_count": 246,
   "metadata": {},
   "outputs": [],
   "source": [
    "by_hour = pd.DataFrame(tweet_df['hate_count'].groupby([tweet_df['created'].dt.date.rename('day'),tweet_df['created'].dt.hour.rename('hour')]).sum())"
   ]
  },
  {
   "cell_type": "code",
   "execution_count": 252,
   "metadata": {},
   "outputs": [],
   "source": [
    "by_hour = pd.DataFrame(tweet_df['hate_count'].groupby(tweet_df['created'].dt.date).sum())"
   ]
  },
  {
   "cell_type": "code",
   "execution_count": 253,
   "metadata": {},
   "outputs": [],
   "source": [
    "by_hour.reset_index(inplace=True)"
   ]
  },
  {
   "cell_type": "code",
   "execution_count": 255,
   "metadata": {},
   "outputs": [
    {
     "data": {
      "text/html": [
       "<div>\n",
       "<style scoped>\n",
       "    .dataframe tbody tr th:only-of-type {\n",
       "        vertical-align: middle;\n",
       "    }\n",
       "\n",
       "    .dataframe tbody tr th {\n",
       "        vertical-align: top;\n",
       "    }\n",
       "\n",
       "    .dataframe thead th {\n",
       "        text-align: right;\n",
       "    }\n",
       "</style>\n",
       "<table border=\"1\" class=\"dataframe\">\n",
       "  <thead>\n",
       "    <tr style=\"text-align: right;\">\n",
       "      <th></th>\n",
       "      <th>created</th>\n",
       "      <th>hate_count</th>\n",
       "    </tr>\n",
       "  </thead>\n",
       "  <tbody>\n",
       "    <tr>\n",
       "      <th>0</th>\n",
       "      <td>2018-12-03</td>\n",
       "      <td>83804</td>\n",
       "    </tr>\n",
       "    <tr>\n",
       "      <th>1</th>\n",
       "      <td>2018-12-04</td>\n",
       "      <td>66502</td>\n",
       "    </tr>\n",
       "  </tbody>\n",
       "</table>\n",
       "</div>"
      ],
      "text/plain": [
       "      created  hate_count\n",
       "0  2018-12-03       83804\n",
       "1  2018-12-04       66502"
      ]
     },
     "execution_count": 255,
     "metadata": {},
     "output_type": "execute_result"
    }
   ],
   "source": [
    "by_hour"
   ]
  },
  {
   "cell_type": "code",
   "execution_count": 254,
   "metadata": {},
   "outputs": [
    {
     "data": {
      "text/plain": [
       "0    83804\n",
       "1    66502\n",
       "Name: hate_count, dtype: int64"
      ]
     },
     "execution_count": 254,
     "metadata": {},
     "output_type": "execute_result"
    }
   ],
   "source": [
    "by_hour['hate_count']"
   ]
  },
  {
   "cell_type": "code",
   "execution_count": 236,
   "metadata": {},
   "outputs": [],
   "source": [
    "df = pd.read_csv(\"https://raw.githubusercontent.com/plotly/datasets/master/finance-charts-apple.csv\")"
   ]
  },
  {
   "cell_type": "code",
   "execution_count": 238,
   "metadata": {},
   "outputs": [
    {
     "data": {
      "text/plain": [
       "0    2015-02-17\n",
       "1    2015-02-18\n",
       "2    2015-02-19\n",
       "3    2015-02-20\n",
       "4    2015-02-23\n",
       "5    2015-02-24\n",
       "6    2015-02-25\n",
       "7    2015-02-26\n",
       "8    2015-02-27\n",
       "9    2015-03-02\n",
       "Name: Date, dtype: object"
      ]
     },
     "execution_count": 238,
     "metadata": {},
     "output_type": "execute_result"
    }
   ],
   "source": [
    "df['Date'][:10]"
   ]
  },
  {
   "cell_type": "code",
   "execution_count": 239,
   "metadata": {},
   "outputs": [
    {
     "data": {
      "text/plain": [
       "0    127.830002\n",
       "1    128.720001\n",
       "2    128.449997\n",
       "3    129.500000\n",
       "4    133.000000\n",
       "5    132.169998\n",
       "6    128.789993\n",
       "7    130.419998\n",
       "8    128.460007\n",
       "9    129.089996\n",
       "Name: AAPL.Close, dtype: float64"
      ]
     },
     "execution_count": 239,
     "metadata": {},
     "output_type": "execute_result"
    }
   ],
   "source": [
    "df['AAPL.Close'][:10]"
   ]
  },
  {
   "cell_type": "code",
   "execution_count": null,
   "metadata": {},
   "outputs": [],
   "source": []
  }
 ],
 "metadata": {
  "kernelspec": {
   "display_name": "Python 3",
   "language": "python",
   "name": "python3"
  },
  "language_info": {
   "codemirror_mode": {
    "name": "ipython",
    "version": 3
   },
   "file_extension": ".py",
   "mimetype": "text/x-python",
   "name": "python",
   "nbconvert_exporter": "python",
   "pygments_lexer": "ipython3",
   "version": "3.6.5"
  }
 },
 "nbformat": 4,
 "nbformat_minor": 2
}
